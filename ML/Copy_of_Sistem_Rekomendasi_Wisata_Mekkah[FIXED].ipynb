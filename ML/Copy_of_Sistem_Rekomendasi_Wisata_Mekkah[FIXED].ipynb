{
  "cells": [
    {
      "cell_type": "code",
      "execution_count": null,
      "metadata": {
        "id": "6yzAaM85Z12D"
      },
      "outputs": [],
      "source": [
        "!pip install -q tensorflow-recommenders\n",
        "!pip install -q --upgrade tensorflow-datasets"
      ]
    },
    {
      "cell_type": "markdown",
      "source": [
        "# Preprocessing Data"
      ],
      "metadata": {
        "id": "aNfIJkTq9DQd"
      }
    },
    {
      "cell_type": "code",
      "source": [
        "#@title Mengambil dataset\n",
        "import pandas as pd\n",
        "\n",
        "# Membaca data dari file CSV\n",
        "id_spreadsheet = \"1Y6Mb6VmJjBgcf5_6PZiK7loUcbe91eui\" #@param\n",
        "df = pd.read_csv(f'https://docs.google.com/spreadsheets/d/{id_spreadsheet}/gviz/tq?tqx=out:csv')"
      ],
      "metadata": {
        "id": "mjC-bCJiMUPu"
      },
      "execution_count": null,
      "outputs": []
    },
    {
      "cell_type": "code",
      "source": [
        "print(\"Link Spreadsheet\")\n",
        "print(f'https://docs.google.com/spreadsheets/d/{id_spreadsheet}')"
      ],
      "metadata": {
        "id": "isQhOPpA-Qj9"
      },
      "execution_count": null,
      "outputs": []
    },
    {
      "cell_type": "code",
      "source": [
        "all_col = [\"User_Id\",\"Place_Id\", \"Place_Ratings\", \"Rating\", \"Jarak dari Kakbah Mekkah (km)\", \"Age\"]\n",
        "for col in all_col:\n",
        "  df[col] = df.apply(lambda row:str(row[col]), axis=1)"
      ],
      "metadata": {
        "id": "u4vigCDjNJcX"
      },
      "execution_count": null,
      "outputs": []
    },
    {
      "cell_type": "code",
      "source": [
        "df.head()"
      ],
      "metadata": {
        "id": "ORGXkS_NMzGA"
      },
      "execution_count": null,
      "outputs": []
    },
    {
      "cell_type": "code",
      "source": [
        "df.info()"
      ],
      "metadata": {
        "id": "N2qvP_PsN2Y-"
      },
      "execution_count": null,
      "outputs": []
    },
    {
      "cell_type": "code",
      "execution_count": null,
      "metadata": {
        "id": "n3oYt3R6Nr9l"
      },
      "outputs": [],
      "source": [
        "from typing import Dict, Text\n",
        "\n",
        "import numpy as np\n",
        "import tensorflow as tf\n",
        "\n",
        "import tensorflow_datasets as tfds\n",
        "import tensorflow_recommenders as tfrs"
      ]
    },
    {
      "cell_type": "markdown",
      "metadata": {
        "id": "zCxQ1CZcO2wh"
      },
      "source": [
        "### Read the data"
      ]
    },
    {
      "cell_type": "code",
      "execution_count": null,
      "metadata": {
        "id": "M-mxBYjdO5m7"
      },
      "outputs": [],
      "source": [
        "ds = tf.data.Dataset.from_tensor_slices(dict(df))"
      ]
    },
    {
      "cell_type": "code",
      "source": [
        "df.info()"
      ],
      "metadata": {
        "id": "PwjWuGYvN5-J"
      },
      "execution_count": null,
      "outputs": []
    },
    {
      "cell_type": "code",
      "source": [
        "# ds_feature = ds.map(lambda x: {\n",
        "#     \"Place_Ratings\": x[\"Place_Ratings\"],\n",
        "#     \"Age\": x[\"Age\"],\n",
        "#     \"Place_Id\" : x[\"Place_Id\"]\n",
        "# })\n",
        "\n",
        "# ds_feature = ds.map(lambda x: {col : x[col] for i, col in enumerate(all_col)})\n",
        "ds_feature = ds.map(lambda x: {col : x[col] for i, col in enumerate([\"Tempat Wisata\", \"User_Id\"])})\n",
        "ds_label = ds.map(lambda x: x[\"Place_Id\"])"
      ],
      "metadata": {
        "id": "3bv7E8e1Ru45"
      },
      "execution_count": null,
      "outputs": []
    },
    {
      "cell_type": "code",
      "source": [
        "ds_feature"
      ],
      "metadata": {
        "id": "CG03eOd-XrSA"
      },
      "execution_count": null,
      "outputs": []
    },
    {
      "cell_type": "code",
      "source": [
        "Place_Id = ds.map(lambda x:x[\"Place_Id\"])\n",
        "Place_Ratings = ds.map(lambda x:x[\"Place_Ratings\"])\n",
        "Age = ds.map(lambda x:x[\"Age\"])\n",
        "wisata = ds.map(lambda x:x[\"Tempat Wisata\"])"
      ],
      "metadata": {
        "id": "dHU5N8iRQb-n"
      },
      "execution_count": null,
      "outputs": []
    },
    {
      "cell_type": "code",
      "source": [
        "wisata"
      ],
      "metadata": {
        "id": "ejjgthatZpAB"
      },
      "execution_count": null,
      "outputs": []
    },
    {
      "cell_type": "code",
      "source": [
        "all_col"
      ],
      "metadata": {
        "id": "CfIO4tgwPT-O"
      },
      "execution_count": null,
      "outputs": []
    },
    {
      "cell_type": "markdown",
      "source": [
        "# Definisi Model"
      ],
      "metadata": {
        "id": "ExqrV1iH9BdQ"
      }
    },
    {
      "cell_type": "code",
      "execution_count": null,
      "metadata": {
        "id": "9I1VTEjHzpfX"
      },
      "outputs": [],
      "source": [
        "#@title Inisiasi Layer StringLookup Yang memungkinkan Input menggunakan string\n",
        "user_id_vocab = tf.keras.layers.StringLookup(mask_token=None)\n",
        "place_id_vocab = tf.keras.layers.StringLookup(mask_token=None)\n",
        "place_rating_vocab = tf.keras.layers.StringLookup(mask_token=None)\n",
        "rating_vocab = tf.keras.layers.StringLookup(mask_token=None)\n",
        "distance_vocab = tf.keras.layers.StringLookup(mask_token=None)\n",
        "age_vocab = tf.keras.layers.StringLookup(mask_token=None)\n",
        "wisata_vocab = tf.keras.layers.StringLookup(mask_token=None)\n",
        "\n",
        "user_id_vocab.adapt(ds.map(lambda x: x[\"User_Id\"]))\n",
        "place_id_vocab.adapt(ds.map(lambda x: x[\"Place_Id\"]))\n",
        "place_rating_vocab.adapt(ds.map(lambda x: x[\"Place_Ratings\"]))\n",
        "rating_vocab.adapt(ds.map(lambda x: x[\"Rating\"]))\n",
        "distance_vocab.adapt(ds.map(lambda x: x[\"Jarak dari Kakbah Mekkah (km)\"]))\n",
        "age_vocab.adapt(ds.map(lambda x: x[\"Age\"]))\n",
        "wisata_vocab.adapt(wisata)"
      ]
    },
    {
      "cell_type": "code",
      "execution_count": null,
      "metadata": {
        "id": "e5dNbDZwOIHR",
        "cellView": "form"
      },
      "outputs": [],
      "source": [
        "#@title Native Class\n",
        "\n",
        "# class TourismLensModel(tfrs.Model):\n",
        "#   # We derive from a custom base class to help reduce boilerplate. Under the hood,\n",
        "#   # these are still plain Keras Models.\n",
        "\n",
        "#   def __init__(\n",
        "#       self,\n",
        "#       user_id_model: tf.keras.Model,\n",
        "#       wisata_model: tf.keras.Model,\n",
        "#       task: tfrs.tasks.Retrieval):\n",
        "#     super().__init__()\n",
        "\n",
        "#     # Set up user and movie representations.\n",
        "#     self.user_id_model = user_id_model\n",
        "#     self.wisata_model = wisata_model\n",
        "#     self.task = task\n",
        "\n",
        "#   def compute_loss(self, features: Dict[Text, tf.Tensor], training=False) -> tf.Tensor:\n",
        "#     # Define how the loss is computed.\n",
        "\n",
        "#     user_id_embeddings = self.user_id_model(features[\"User_Id\"])\n",
        "#     wisata_embeddings = self.wisata_model(features[\"Tempat Wisata\"])\n",
        "\n",
        "#     return self.task(user_id_embeddings, wisata_embeddings)"
      ]
    },
    {
      "cell_type": "code",
      "source": [
        "#@title Definisikan Model TourismLensModel\n",
        "class TourismLensModel(tfrs.Model):\n",
        "  def __init__(self):\n",
        "    super().__init__()\n",
        "\n",
        "    # Set up user and movie representations.\n",
        "    self.user_id_model = tf.keras.Sequential([\n",
        "        wisata_vocab,\n",
        "        tf.keras.layers.Embedding(wisata_vocab.vocabulary_size(), 64)\n",
        "    ])\n",
        "    self.wisata_model = tf.keras.Sequential([\n",
        "        wisata_vocab,\n",
        "        tf.keras.layers.Embedding(wisata_vocab.vocabulary_size(), 64)\n",
        "    ])\n",
        "    self.task = tfrs.tasks.Retrieval(metrics=tfrs.metrics.FactorizedTopK(\n",
        "        wisata.batch(128).map(wisata_model)\n",
        "      )\n",
        "    )\n",
        "\n",
        "  def compute_loss(self, features: Dict[Text, tf.Tensor], training=False) -> tf.Tensor:\n",
        "    # Define how the loss is computed.\n",
        "\n",
        "    user_id_embeddings = self.user_id_model(features[\"User_Id\"])\n",
        "    wisata_embeddings = self.wisata_model(features[\"Tempat Wisata\"])\n",
        "\n",
        "    return self.task(user_id_embeddings, wisata_embeddings)"
      ],
      "metadata": {
        "id": "uK5KKl_V03sv"
      },
      "execution_count": null,
      "outputs": []
    },
    {
      "cell_type": "code",
      "execution_count": null,
      "metadata": {
        "id": "EvtnUN6aUY4U",
        "cellView": "form"
      },
      "outputs": [],
      "source": [
        "#@title Defisinikan Beberapa Layer Yang Mungkin Akan Dibutuhkan\n",
        "wisata_model = tf.keras.Sequential([\n",
        "    wisata_vocab,\n",
        "    tf.keras.layers.Embedding(wisata_vocab.vocabulary_size(), 64)\n",
        "])\n",
        "\n",
        "user_id_model = tf.keras.Sequential([\n",
        "    user_id_vocab,\n",
        "    tf.keras.layers.Embedding(user_id_vocab.vocabulary_size(), 64)\n",
        "])\n",
        "\n",
        "place_id_model = tf.keras.Sequential([\n",
        "    place_id_vocab,\n",
        "    tf.keras.layers.Embedding(place_id_vocab.vocabulary_size(), 64)\n",
        "])\n",
        "\n",
        "place_rating_model = tf.keras.Sequential([\n",
        "    place_rating_vocab,\n",
        "    tf.keras.layers.Embedding(place_rating_vocab.vocabulary_size(), 64)\n",
        "])\n",
        "\n",
        "rating_model = tf.keras.Sequential([\n",
        "    rating_vocab,\n",
        "    tf.keras.layers.Embedding(rating_vocab.vocabulary_size(), 64)\n",
        "])\n",
        "\n",
        "distance_model = tf.keras.Sequential([\n",
        "    distance_vocab,\n",
        "    tf.keras.layers.Embedding(distance_vocab.vocabulary_size(), 64)\n",
        "])\n",
        "\n",
        "age_model = tf.keras.Sequential([\n",
        "    age_vocab,\n",
        "    tf.keras.layers.Embedding(age_vocab.vocabulary_size(), 64)\n",
        "])\n",
        "\n",
        "# # Define your objectives.\n",
        "# task = tfrs.tasks.Retrieval(metrics=tfrs.metrics.FactorizedTopK(\n",
        "#     Place_Id.batch(128).map(place_id_model)\n",
        "#   )\n",
        "# )\n",
        "\n",
        "# Define your objectives.\n",
        "task = tfrs.tasks.Retrieval(metrics=tfrs.metrics.FactorizedTopK(\n",
        "    wisata.batch(128).map(wisata_model)\n",
        "  )\n",
        ")"
      ]
    },
    {
      "cell_type": "markdown",
      "source": [
        "# Training Model"
      ],
      "metadata": {
        "id": "2tQin1kL9KNW"
      }
    },
    {
      "cell_type": "code",
      "execution_count": null,
      "metadata": {
        "id": "H2tQDhqkOKf1"
      },
      "outputs": [],
      "source": [
        "#@title Membuat retrieval model.\n",
        "# model = TourismLensModel(user_id_model, wisata_model , task)\n",
        "model = TourismLensModel()\n",
        "model.compile(optimizer=tf.keras.optimizers.Adagrad(0.5))\n",
        "\n",
        "# Train for 3 epochs.\n",
        "model.fit(ds_feature.batch(4096), epochs=10)"
      ]
    },
    {
      "cell_type": "code",
      "source": [
        "#@title Brute Force Layer Untuk Set Up/Mengatur retrieval menggunakan representasi terlatih\n",
        "# Use brute-force search to set up retrieval using the trained representations.\n",
        "index = tfrs.layers.factorized_top_k.BruteForce(model.user_id_model)\n",
        "index.index_from_dataset(\n",
        "    wisata.batch(100).map(lambda title: (title, model.wisata_model(title))))"
      ],
      "metadata": {
        "id": "Vkd_UMNhSmhS"
      },
      "execution_count": null,
      "outputs": []
    },
    {
      "cell_type": "markdown",
      "source": [
        "# Prediksi Model"
      ],
      "metadata": {
        "id": "_62F5pt-9May"
      }
    },
    {
      "cell_type": "code",
      "source": [
        "#@title Fungsi Untuk Meratakan list bercabang\n",
        "def flatten_list(nested_list ):\n",
        "  return [item for sublist in nested_list for item in sublist]"
      ],
      "metadata": {
        "id": "YkhbLwPpdXp0"
      },
      "execution_count": null,
      "outputs": []
    },
    {
      "cell_type": "code",
      "source": [
        "#@title Prediksi model rekomendasi\n",
        "_, titles = index(np.array([\"1\"]), k=50)\n",
        "print(f\"Top 50 recommendations for user 42: {flatten_list(titles)}\")"
      ],
      "metadata": {
        "id": "f8EFmwRjdneC"
      },
      "execution_count": null,
      "outputs": []
    },
    {
      "cell_type": "code",
      "source": [
        "titles_ = flatten_list(titles)\n",
        "titles_ = [_titles_.numpy().decode('utf-8') for _titles_ in titles_]\n",
        "print(titles_)"
      ],
      "metadata": {
        "id": "xKpQckbjDBUO"
      },
      "execution_count": null,
      "outputs": []
    },
    {
      "cell_type": "code",
      "source": [
        "import pandas as pd\n",
        "\n",
        "df_result_rekomendasi = pd.DataFrame({\n",
        "    'Nama Wisata' : titles_\n",
        "})"
      ],
      "metadata": {
        "id": "sxLmolVMC_Dd"
      },
      "execution_count": null,
      "outputs": []
    },
    {
      "cell_type": "code",
      "source": [
        "#@title Hasil Rekomendasi\n",
        "df_result_rekomendasi"
      ],
      "metadata": {
        "id": "YiwHgxdpHAyS"
      },
      "execution_count": null,
      "outputs": []
    },
    {
      "cell_type": "code",
      "source": [
        "df_result_rekomendasi.to_csv(\"HasilRekomendasiWisataMekkah.csv\", index=False)"
      ],
      "metadata": {
        "id": "CglT4kjuHCJ4"
      },
      "execution_count": null,
      "outputs": []
    },
    {
      "cell_type": "code",
      "source": [
        "len(flatten_list(titles))"
      ],
      "metadata": {
        "id": "0ptSnB3kdFKU"
      },
      "execution_count": null,
      "outputs": []
    },
    {
      "cell_type": "markdown",
      "source": [
        "# Export Model"
      ],
      "metadata": {
        "id": "_CNZQEsI9PRu"
      }
    },
    {
      "cell_type": "code",
      "source": [
        "#@title Export Model\n",
        "model.save(\"recommender_model_of_wisata_mekkah.keras\")"
      ],
      "metadata": {
        "id": "njcCpghR7cho"
      },
      "execution_count": null,
      "outputs": []
    },
    {
      "cell_type": "code",
      "source": [
        "# #@title Export Model\n",
        "# index.save(\"recommender_model_of_wisata_mekkah\")"
      ],
      "metadata": {
        "id": "0F6v-LmB4r7-"
      },
      "execution_count": null,
      "outputs": []
    },
    {
      "cell_type": "code",
      "source": [
        "# #@title Export Ke TFLITE\n",
        "# # Convert the model\n",
        "# converter = tf.lite.TFLiteConverter.from_keras_model(\"recommender_model_of_wisata_mekkah.keras\") # path to the SavedModel directory\n",
        "# tflite_model = converter.convert()\n",
        "\n",
        "# # Save the model.\n",
        "# with open('model.tflite', 'wb') as f:\n",
        "#   f.write(tflite_model)"
      ],
      "metadata": {
        "id": "HkB8E4ep5JLP"
      },
      "execution_count": null,
      "outputs": []
    },
    {
      "cell_type": "code",
      "source": [
        "#@title Export Weight Model\n",
        "# @markdown Sumber Cara export/save weight serta load weight ada di link https://stackoverflow.com/questions/73659720/how-to-save-tensorflow-recommenders-framework-model\n",
        "model.save_weights('recommender_weights_of_wisata_mekkah', save_format='tf')"
      ],
      "metadata": {
        "id": "TQaAnUDedG4U"
      },
      "execution_count": null,
      "outputs": []
    },
    {
      "cell_type": "markdown",
      "source": [
        "# Contoh Implementasi menjadi RestAPI menggunakan FastAPI dan NGROK"
      ],
      "metadata": {
        "id": "cXniZ0ci_l9k"
      }
    },
    {
      "cell_type": "code",
      "source": [
        "!pip install fastapi nest-asyncio pyngrok uvicorn flask-ngrok ngrok flask python-multipart aiofiles -q"
      ],
      "metadata": {
        "id": "NpYB324QAIDE"
      },
      "execution_count": null,
      "outputs": []
    },
    {
      "cell_type": "markdown",
      "source": [
        "**Catatan Untuk FastAPI dan NGROK**\n",
        "\n",
        "ketika kode berikut dijalankan akan menghasilkan Public URL, Public URL ini akan selalu berganti jika kode berikut dijalankan lagi(berhenti lalu dijalankan lagi). Untuk kode ngrok_auth_token berikut bisa diganti dengan yang tersedia, bisa dapatkan ngrok_auth_token di website officialnya dan sign up.\n",
        "\n",
        "Public URL ini bisa digunakan sebagai restAPI, contoh penggunaan nya\n",
        "\n",
        "https://c8fd-35-197-89-51.ngrok-free.app/recommender?id_input=3\n"
      ],
      "metadata": {
        "id": "13EZadvaDvXi"
      }
    },
    {
      "cell_type": "code",
      "source": [
        "from fastapi import FastAPI\n",
        "from fastapi import File, UploadFile\n",
        "from PIL import Image\n",
        "from io import BytesIO\n",
        "from fastapi.middleware.cors import CORSMiddleware\n",
        "from pyngrok import ngrok\n",
        "import nest_asyncio\n",
        "import uvicorn\n",
        "from fastapi.responses import FileResponse\n",
        "import shutil\n",
        "from fastapi.staticfiles import StaticFiles\n",
        "\n",
        "ngrok_auth_token = \"1TfbVOS48SeXdQ7rJ2do5JjJFxG_4d5K3jMerctfbUsXvidrT\" #@param\n",
        "ngrok.set_auth_token(ngrok_auth_token)\n",
        "\n",
        "app = FastAPI()\n",
        "\n",
        "app.add_middleware(\n",
        "    CORSMiddleware,\n",
        "    allow_origins=['*'],\n",
        "    allow_credentials=True,\n",
        "    allow_methods=['*'],\n",
        "    allow_headers=['*'],\n",
        ")\n",
        "\n",
        "@app.get(\"/\")\n",
        "async def root():\n",
        "    \"\"\"\n",
        "    Fungsi ini hanyalan untuk test\n",
        "\n",
        "    Method : Get\n",
        "\n",
        "    Output :\n",
        "    Message(String) : Pesan Yang dihasilkan\n",
        "    \"\"\"\n",
        "    return {\n",
        "        \"message\" : \"Selamat Datang Di Rest API Sistem Rekomendasi Wisata Mekkah\"\n",
        "    }\n",
        "\n",
        "@app.get(\"/recommender\")\n",
        "async def recommender(id_input: str = None):\n",
        "    \"\"\"\n",
        "    Fungsi ini digunakan untuk rekomendasi dalam restAPI\n",
        "\n",
        "    Method : Get\n",
        "\n",
        "    Parameter :\n",
        "\n",
        "    id_input(String) : Input Data berupa id string\n",
        "\n",
        "    Output :\n",
        "\n",
        "    message(String) : pesan yang dihasilkan\n",
        "    tempat_wisata(List(String)) : list rekomendasi tempat wisata\n",
        "\n",
        "    \"\"\"\n",
        "    try:\n",
        "      _, tempat_wisata = index(np.array([id_input]), k=50)\n",
        "      tempat_wisata = flatten_list(tempat_wisata)\n",
        "      tempat_wisata = [str(wisata_.numpy().decode('utf-8')) for wisata_ in tempat_wisata]\n",
        "      # print(f\"Top 50 recommendations for user 42: {flatten_list(titles)}\")\n",
        "      return {\n",
        "          \"message\" : \"Hasil Rekomendasi\",\n",
        "          \"tempat_wisata\" : tempat_wisata\n",
        "      }\n",
        "    except:\n",
        "      return {\n",
        "          \"message\" : \"Predict Failed\"\n",
        "      }\n",
        "\n",
        "listener = ngrok.connect(8000)\n",
        "# listener = ngrok.forward(8000, authtoken_from_env=True)\n",
        "print('Public URL:', listener.public_url)\n",
        "nest_asyncio.apply()\n",
        "uvicorn.run(app, port=8000)\n"
      ],
      "metadata": {
        "id": "RQLRtYvi_tdi"
      },
      "execution_count": null,
      "outputs": []
    },
    {
      "cell_type": "markdown",
      "source": [
        "# Catatan Tambahan"
      ],
      "metadata": {
        "id": "1Gjm4DBj-gV3"
      }
    },
    {
      "cell_type": "markdown",
      "source": [
        "**Saran**\n",
        "\n",
        "Untuk Implementasi Model sebaiknya dibuat restAPI misalnya menggunakan FastAPI menggunakan bahasa python pada kode ini(sebaiknya dibuat kode file python, bukan format jupyter notebook atau google colab) mengingat export model dan export weight model jauh lebih kompleks dari tensorflow yang biasanya. RestAPI ini nantinya bisa dijalankan di VirtualMachine(VM) atau Cloud(bisa explore sendiri bagaimana cara menjalankan file python di cloud dan set up API nya). Setelah sudah jalan, RestAPI ini bisa dilakukan pengiriman request dari mobile(android) ke program restAPI untuk mendapatkan hasil"
      ],
      "metadata": {
        "id": "8AZlK9L4-iOo"
      }
    },
    {
      "cell_type": "code",
      "source": [],
      "metadata": {
        "id": "_4l7ihId-hZb"
      },
      "execution_count": null,
      "outputs": []
    }
  ],
  "metadata": {
    "colab": {
      "private_outputs": true,
      "provenance": []
    },
    "kernelspec": {
      "display_name": "Python 3",
      "language": "python",
      "name": "python3"
    }
  },
  "nbformat": 4,
  "nbformat_minor": 0
}